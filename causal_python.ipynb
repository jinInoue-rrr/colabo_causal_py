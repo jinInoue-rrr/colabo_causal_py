{
  "nbformat": 4,
  "nbformat_minor": 0,
  "metadata": {
    "colab": {
      "provenance": [],
      "authorship_tag": "ABX9TyP9OtDn6QUJW6ju+8ghCLmV",
      "include_colab_link": true
    },
    "kernelspec": {
      "name": "python3",
      "display_name": "Python 3"
    },
    "language_info": {
      "name": "python"
    }
  },
  "cells": [
    {
      "cell_type": "markdown",
      "metadata": {
        "id": "view-in-github",
        "colab_type": "text"
      },
      "source": [
        "<a href=\"https://colab.research.google.com/github/jinInoue-rrr/colabo_causal_py/blob/main/causal_python.ipynb\" target=\"_parent\"><img src=\"https://colab.research.google.com/assets/colab-badge.svg\" alt=\"Open In Colab\"/></a>"
      ]
    },
    {
      "cell_type": "markdown",
      "source": [
        "## Pythonによる因果分析\n",
        "### 因果推論・因果探索の実践入門\n",
        "### 第1部 因果推論\n"
      ],
      "metadata": {
        "id": "B2IjoHa_LNYm"
      }
    },
    {
      "cell_type": "markdown",
      "source": [
        "#### 第1章 相関と因果の違い\n",
        "\n",
        "##### 疑似相関のパターン\n",
        "\n",
        "- パターン1: 逆の因果\n",
        "- パターン2: 交絡(confounding)の存在\n",
        "- パターン3: 合流点バイアス(colider)\n",
        "  - 例えば、人間性得点($x$)とITスキルの得点($y$)の二次元のスコアの合計で合格/不合格を選抜することを考える。つまり、何らかの閾値Tよりも合計点が高いと選抜され($x + y > T$)、閾値T以下だと不合格で選抜されないという状況とする。ここで、xとyには相関がない($corr = 0$)と仮定すると、$x$と$y$の散布図において、合計が一定の閾値を超えたもののみを選抜すると、「選抜されたサブグループ」($y > -x + T$の領域を満たすグループ)のみの間においては、$x$と$y$の間に本来は存在しないはずの負の相関関係が見られる、というようなことが起こりうるということ。\n"
      ],
      "metadata": {
        "id": "1QHvbRJGMHlh"
      }
    },
    {
      "cell_type": "code",
      "source": [
        "#### pseudo_correlation\n",
        "\n",
        "import random\n",
        "import numpy as np\n",
        "\n",
        "random.seed(1234)\n",
        "np.random.seed(1234)\n",
        "\n",
        "import scipy.stats\n",
        "from numpy.random import randn\n",
        "\n",
        "import matplotlib.pyplot as plt\n",
        "%matplotlib inline\n",
        "\n",
        "# 追加\n",
        "\n",
        "import seaborn as sns\n",
        "import pandas as pd"
      ],
      "metadata": {
        "id": "hhKx2NtTL-FY"
      },
      "execution_count": 6,
      "outputs": []
    },
    {
      "cell_type": "code",
      "source": [
        "num_data = 200\n",
        "\n",
        "e_z = randn(num_data)\n",
        "e_y = randn(num_data)\n",
        "\n",
        "Z = e_z\n",
        "Y = 2 * Z + e_y\n",
        "\n",
        "# arrayからdicにしてdataframeに突っ込む\n",
        "\n",
        "df = pd.DataFrame({\"Z\":Z, \"Y\":Y})\n"
      ],
      "metadata": {
        "id": "XwARFKjlPRtA"
      },
      "execution_count": 7,
      "outputs": []
    },
    {
      "cell_type": "code",
      "source": [
        "print(df)"
      ],
      "metadata": {
        "colab": {
          "base_uri": "https://localhost:8080/"
        },
        "id": "c8ZDZuSQPjxU",
        "outputId": "e319d7c5-5db7-4044-d18f-8d8fe22c7e80"
      },
      "execution_count": 13,
      "outputs": [
        {
          "output_type": "stream",
          "name": "stdout",
          "text": [
            "            Z         Y\n",
            "0    0.471435  0.623309\n",
            "1   -1.190976 -3.001944\n",
            "2    1.432707  3.022412\n",
            "3   -0.312652 -1.196759\n",
            "4   -0.720589 -0.383544\n",
            "..        ...       ...\n",
            "195 -0.431550 -0.814835\n",
            "196 -0.161137 -0.260285\n",
            "197  0.889157  0.750799\n",
            "198  0.288377  0.338418\n",
            "199 -1.051539 -0.170900\n",
            "\n",
            "[200 rows x 2 columns]\n"
          ]
        }
      ]
    },
    {
      "cell_type": "code",
      "source": [
        "# seabornでの可視化\n",
        "\n",
        "sns.relplot(x = \"Z\", y = \"Y\", data = df)# Z→Yの因果効果がある場合のプロット"
      ],
      "metadata": {
        "colab": {
          "base_uri": "https://localhost:8080/",
          "height": 386
        },
        "id": "02YJN4alRVnm",
        "outputId": "d8816bf2-48ea-4a1a-9be5-093100b932a6"
      },
      "execution_count": 14,
      "outputs": [
        {
          "output_type": "execute_result",
          "data": {
            "text/plain": [
              "<seaborn.axisgrid.FacetGrid at 0x7fe71ea62f70>"
            ]
          },
          "metadata": {},
          "execution_count": 14
        },
        {
          "output_type": "display_data",
          "data": {
            "text/plain": [
              "<Figure size 360x360 with 1 Axes>"
            ],
            "image/png": "[encoded data removed]"
          },
          "metadata": {
            "needs_background": "light"
          }
        }
      ]
    },
    {
      "cell_type": "code",
      "source": [
        "# 相関係数の算出\n",
        "\n",
        "np.corrcoef(Z, Y)# 0.89と強い\n",
        "\n"
      ],
      "metadata": {
        "colab": {
          "base_uri": "https://localhost:8080/"
        },
        "id": "u35kqVJ_R1Y-",
        "outputId": "c48fcaa8-e6d9-482c-b37d-e441aee7f360"
      },
      "execution_count": 15,
      "outputs": [
        {
          "output_type": "execute_result",
          "data": {
            "text/plain": [
              "array([[1.        , 0.89379611],\n",
              "       [0.89379611, 1.        ]])"
            ]
          },
          "metadata": {},
          "execution_count": 15
        }
      ]
    },
    {
      "cell_type": "code",
      "source": [
        "# 標準化とmatplotlibによる可視化\n",
        "\n",
        "Z_std = scipy.stats.zscore(Z)\n",
        "Y_std = scipy.stats.zscore(Y)\n",
        "\n",
        "plt.scatter(Z_std, Y_std)\n"
      ],
      "metadata": {
        "colab": {
          "base_uri": "https://localhost:8080/",
          "height": 282
        },
        "id": "4ufUwdcfSJ1o",
        "outputId": "b558241b-6998-4fb3-dda4-089b95dcf45d"
      },
      "execution_count": 16,
      "outputs": [
        {
          "output_type": "execute_result",
          "data": {
            "text/plain": [
              "<matplotlib.collections.PathCollection at 0x7fe71b65eeb0>"
            ]
          },
          "metadata": {},
          "execution_count": 16
        },
        {
          "output_type": "display_data",
          "data": {
            "text/plain": [
              "<Figure size 432x288 with 1 Axes>"
            ],
            "image/png": "[encoded data removed]"
          },
          "metadata": {
            "needs_background": "light"
          }
        }
      ]
    },
    {
      "cell_type": "code",
      "source": [
        "# 1. 疑似相関：逆の因果\n",
        "\n",
        "num_data = 200\n",
        "e_z = randn(num_data)\n",
        "e_y = randn(num_data)\n",
        "\n",
        "Y = e_y\n",
        "Z = 2 * Y + e_z# Y→Zの因果としてシミュレーション\n",
        "\n",
        "np.corrcoef(Y, Z)# .90の強い正の相関\n",
        "\n",
        "Y_std = scipy.stats.zscore(Y)\n",
        "Z_std = scipy.stats.zscore(Z)\n",
        "\n",
        "plt.scatter(Z_std, Y_std)#DGP的な因果はY→Zだとしても、Z→Yでの散布図と表面上は区別がつかない\n"
      ],
      "metadata": {
        "colab": {
          "base_uri": "https://localhost:8080/",
          "height": 282
        },
        "id": "D2mr6gkiSaCs",
        "outputId": "2aa8d1b9-54aa-4ec3-bcee-73501edb11fd"
      },
      "execution_count": 19,
      "outputs": [
        {
          "output_type": "execute_result",
          "data": {
            "text/plain": [
              "<matplotlib.collections.PathCollection at 0x7fe71b58b9a0>"
            ]
          },
          "metadata": {},
          "execution_count": 19
        },
        {
          "output_type": "display_data",
          "data": {
            "text/plain": [
              "<Figure size 432x288 with 1 Axes>"
            ],
            "image/png": "[encoded data removed]"
          },
          "metadata": {
            "needs_background": "light"
          }
        }
      ]
    },
    {
      "cell_type": "code",
      "source": [
        "# 2. 疑似相関：共通の原因（交絡）\n",
        "\n",
        "num_data = 200\n",
        "\n",
        "e_x = randn(num_data)\n",
        "e_z = randn(num_data)\n",
        "e_y = randn(num_data)\n",
        "\n",
        "# Z ← X → Y：ZとYの間にはarrowが存在しないが、Xが交絡因子になっているケースのDGP\n",
        "\n",
        "Z = 3.3 * e_x + e_z\n",
        "Y = 3.3 * e_x + e_y\n",
        "\n",
        "np.corrcoef(Z, Y)\n",
        "\n",
        "Z_std = scipy.stats.zscore(Z)\n",
        "Y_std = scipy.stats.zscore(Y)\n",
        "\n",
        "plt.scatter(Z_std, Y_std)# DGP的にはZとYの間には因果関係はないが、交絡によって見せかけの相関が生じているケース\n"
      ],
      "metadata": {
        "colab": {
          "base_uri": "https://localhost:8080/",
          "height": 282
        },
        "id": "USA7JroBTH1h",
        "outputId": "ed853708-98cd-424d-d085-96996ac544bc"
      },
      "execution_count": 21,
      "outputs": [
        {
          "output_type": "execute_result",
          "data": {
            "text/plain": [
              "<matplotlib.collections.PathCollection at 0x7fe71b51cdf0>"
            ]
          },
          "metadata": {},
          "execution_count": 21
        },
        {
          "output_type": "display_data",
          "data": {
            "text/plain": [
              "<Figure size 432x288 with 1 Axes>"
            ],
            "image/png": "[encoded data removed]"
          },
          "metadata": {
            "needs_background": "light"
          }
        }
      ]
    },
    {
      "cell_type": "code",
      "source": [
        "# 3. 疑似相関：合流点(collider)での選抜\n",
        "\n",
        "num_data = 200\n",
        "\n",
        "e_x = randn(num_data)\n",
        "e_y = randn(num_data)\n",
        "\n",
        "x = e_x\n",
        "y = e_y\n",
        "\n",
        "plt.scatter(x, y)#iidなので当然独立\n",
        "\n",
        "np.corrcoef(x, y)\n"
      ],
      "metadata": {
        "colab": {
          "base_uri": "https://localhost:8080/",
          "height": 300
        },
        "id": "yiBQ5OAaVMr8",
        "outputId": "1defe850-7a62-4685-90ed-7433f8931182"
      },
      "execution_count": 24,
      "outputs": [
        {
          "output_type": "execute_result",
          "data": {
            "text/plain": [
              "array([[ 1.        , -0.07684307],\n",
              "       [-0.07684307,  1.        ]])"
            ]
          },
          "metadata": {},
          "execution_count": 24
        },
        {
          "output_type": "display_data",
          "data": {
            "text/plain": [
              "<Figure size 432x288 with 1 Axes>"
            ],
            "image/png": "[encoded data removed]"
          },
          "metadata": {
            "needs_background": "light"
          }
        }
      ]
    },
    {
      "cell_type": "code",
      "source": [
        "# 合流点による選抜\n",
        "\n",
        "z = x + y\n",
        "\n",
        "x_new = np.array([])\n",
        "y_new = np.array([])\n",
        "\n",
        "for i in range(num_data):\n",
        "  if z[i] > 0.0:\n",
        "    x_new = np.append(x_new, x[i])\n",
        "    y_new = np.append(y_new, y[i])\n",
        "\n",
        "plt.scatter(x_new, y_new)\n",
        "\n",
        "np.corrcoef(x_new, y_new)\n"
      ],
      "metadata": {
        "colab": {
          "base_uri": "https://localhost:8080/",
          "height": 300
        },
        "id": "8sHLIVv_XFDb",
        "outputId": "958e941c-50e3-4a2c-826b-2e2505f41e18"
      },
      "execution_count": 27,
      "outputs": [
        {
          "output_type": "execute_result",
          "data": {
            "text/plain": [
              "array([[ 1.        , -0.60165455],\n",
              "       [-0.60165455,  1.        ]])"
            ]
          },
          "metadata": {},
          "execution_count": 27
        },
        {
          "output_type": "display_data",
          "data": {
            "text/plain": [
              "<Figure size 432x288 with 1 Axes>"
            ],
            "image/png": "[encoded data removed]"
          },
          "metadata": {
            "needs_background": "light"
          }
        }
      ]
    },
    {
      "cell_type": "markdown",
      "source": [
        "#### 第2章　因果効果の種類を把握しよう\n"
      ],
      "metadata": {
        "id": "uWTjicfIYVy5"
      }
    },
    {
      "cell_type": "code",
      "source": [],
      "metadata": {
        "id": "I_YH9CxrYcNr"
      },
      "execution_count": null,
      "outputs": []
    }
  ]
}